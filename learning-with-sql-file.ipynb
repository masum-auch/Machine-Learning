{
 "cells": [
  {
   "cell_type": "code",
   "execution_count": 1,
   "id": "d3cf5cd1",
   "metadata": {
    "execution": {
     "iopub.execute_input": "2025-10-27T06:26:39.253565Z",
     "iopub.status.busy": "2025-10-27T06:26:39.253248Z",
     "iopub.status.idle": "2025-10-27T06:26:40.958025Z",
     "shell.execute_reply": "2025-10-27T06:26:40.957289Z"
    },
    "papermill": {
     "duration": 1.711364,
     "end_time": "2025-10-27T06:26:40.959709",
     "exception": false,
     "start_time": "2025-10-27T06:26:39.248345",
     "status": "completed"
    },
    "tags": []
   },
   "outputs": [],
   "source": [
    "import pandas as pd"
   ]
  },
  {
   "cell_type": "markdown",
   "id": "98934f96",
   "metadata": {
    "papermill": {
     "duration": 0.002678,
     "end_time": "2025-10-27T06:26:40.965702",
     "exception": false,
     "start_time": "2025-10-27T06:26:40.963024",
     "status": "completed"
    },
    "tags": []
   },
   "source": [
    "# XAMPP SQL DATA DOWNLOAD OR LEARNING"
   ]
  },
  {
   "cell_type": "code",
   "execution_count": 2,
   "id": "e27fbd08",
   "metadata": {
    "execution": {
     "iopub.execute_input": "2025-10-27T06:26:40.972720Z",
     "iopub.status.busy": "2025-10-27T06:26:40.972312Z",
     "iopub.status.idle": "2025-10-27T06:26:41.006840Z",
     "shell.execute_reply": "2025-10-27T06:26:41.005962Z"
    },
    "papermill": {
     "duration": 0.039832,
     "end_time": "2025-10-27T06:26:41.008444",
     "exception": false,
     "start_time": "2025-10-27T06:26:40.968612",
     "status": "completed"
    },
    "tags": []
   },
   "outputs": [],
   "source": [
    "df = pd.read_csv('/kaggle/input/worldcity/world.csv', on_bad_lines='skip')\n"
   ]
  },
  {
   "cell_type": "code",
   "execution_count": 3,
   "id": "85395eac",
   "metadata": {
    "execution": {
     "iopub.execute_input": "2025-10-27T06:26:41.015706Z",
     "iopub.status.busy": "2025-10-27T06:26:41.015099Z",
     "iopub.status.idle": "2025-10-27T06:26:41.042950Z",
     "shell.execute_reply": "2025-10-27T06:26:41.041914Z"
    },
    "papermill": {
     "duration": 0.033003,
     "end_time": "2025-10-27T06:26:41.044438",
     "exception": false,
     "start_time": "2025-10-27T06:26:41.011435",
     "status": "completed"
    },
    "tags": []
   },
   "outputs": [
    {
     "name": "stderr",
     "output_type": "stream",
     "text": [
      "/usr/local/lib/python3.11/dist-packages/pandas/io/formats/format.py:1458: RuntimeWarning: invalid value encountered in greater\n",
      "  has_large_values = (abs_vals > 1e6).any()\n",
      "/usr/local/lib/python3.11/dist-packages/pandas/io/formats/format.py:1459: RuntimeWarning: invalid value encountered in less\n",
      "  has_small_values = ((abs_vals < 10 ** (-self.digits)) & (abs_vals > 0)).any()\n",
      "/usr/local/lib/python3.11/dist-packages/pandas/io/formats/format.py:1459: RuntimeWarning: invalid value encountered in greater\n",
      "  has_small_values = ((abs_vals < 10 ** (-self.digits)) & (abs_vals > 0)).any()\n"
     ]
    },
    {
     "data": {
      "text/html": [
       "<div>\n",
       "<style scoped>\n",
       "    .dataframe tbody tr th:only-of-type {\n",
       "        vertical-align: middle;\n",
       "    }\n",
       "\n",
       "    .dataframe tbody tr th {\n",
       "        vertical-align: top;\n",
       "    }\n",
       "\n",
       "    .dataframe thead th {\n",
       "        text-align: right;\n",
       "    }\n",
       "</style>\n",
       "<table border=\"1\" class=\"dataframe\">\n",
       "  <thead>\n",
       "    <tr style=\"text-align: right;\">\n",
       "      <th></th>\n",
       "      <th>ID</th>\n",
       "      <th>Name</th>\n",
       "      <th>CountryCode</th>\n",
       "      <th>District</th>\n",
       "      <th>Population</th>\n",
       "    </tr>\n",
       "  </thead>\n",
       "  <tbody>\n",
       "    <tr>\n",
       "      <th>0</th>\n",
       "      <td>1</td>\n",
       "      <td>Kabul</td>\n",
       "      <td>AFG</td>\n",
       "      <td>Kabol</td>\n",
       "      <td>1780000.0</td>\n",
       "    </tr>\n",
       "    <tr>\n",
       "      <th>1</th>\n",
       "      <td>2</td>\n",
       "      <td>Qandahar</td>\n",
       "      <td>AFG</td>\n",
       "      <td>Qandahar</td>\n",
       "      <td>237500.0</td>\n",
       "    </tr>\n",
       "    <tr>\n",
       "      <th>2</th>\n",
       "      <td>3</td>\n",
       "      <td>Herat</td>\n",
       "      <td>AFG</td>\n",
       "      <td>Herat</td>\n",
       "      <td>186800.0</td>\n",
       "    </tr>\n",
       "    <tr>\n",
       "      <th>3</th>\n",
       "      <td>4</td>\n",
       "      <td>Mazar-e-Sharif</td>\n",
       "      <td>AFG</td>\n",
       "      <td>Balkh</td>\n",
       "      <td>127800.0</td>\n",
       "    </tr>\n",
       "    <tr>\n",
       "      <th>4</th>\n",
       "      <td>5</td>\n",
       "      <td>Amsterdam</td>\n",
       "      <td>NLD</td>\n",
       "      <td>Noord-Holland</td>\n",
       "      <td>731200.0</td>\n",
       "    </tr>\n",
       "    <tr>\n",
       "      <th>...</th>\n",
       "      <td>...</td>\n",
       "      <td>...</td>\n",
       "      <td>...</td>\n",
       "      <td>...</td>\n",
       "      <td>...</td>\n",
       "    </tr>\n",
       "    <tr>\n",
       "      <th>5059</th>\n",
       "      <td>ZMB</td>\n",
       "      <td>Tongan</td>\n",
       "      <td>F</td>\n",
       "      <td>11.0</td>\n",
       "      <td>NaN</td>\n",
       "    </tr>\n",
       "    <tr>\n",
       "      <th>5060</th>\n",
       "      <td>ZWE</td>\n",
       "      <td>English</td>\n",
       "      <td>T</td>\n",
       "      <td>2.2</td>\n",
       "      <td>NaN</td>\n",
       "    </tr>\n",
       "    <tr>\n",
       "      <th>5061</th>\n",
       "      <td>ZWE</td>\n",
       "      <td>Ndebele</td>\n",
       "      <td>F</td>\n",
       "      <td>16.2</td>\n",
       "      <td>NaN</td>\n",
       "    </tr>\n",
       "    <tr>\n",
       "      <th>5062</th>\n",
       "      <td>ZWE</td>\n",
       "      <td>Nyanja</td>\n",
       "      <td>F</td>\n",
       "      <td>2.2</td>\n",
       "      <td>NaN</td>\n",
       "    </tr>\n",
       "    <tr>\n",
       "      <th>5063</th>\n",
       "      <td>ZWE</td>\n",
       "      <td>Shona</td>\n",
       "      <td>F</td>\n",
       "      <td>72.1</td>\n",
       "      <td>NaN</td>\n",
       "    </tr>\n",
       "  </tbody>\n",
       "</table>\n",
       "<p>5064 rows × 5 columns</p>\n",
       "</div>"
      ],
      "text/plain": [
       "       ID            Name CountryCode       District  Population\n",
       "0       1           Kabul         AFG          Kabol   1780000.0\n",
       "1       2        Qandahar         AFG       Qandahar    237500.0\n",
       "2       3           Herat         AFG          Herat    186800.0\n",
       "3       4  Mazar-e-Sharif         AFG          Balkh    127800.0\n",
       "4       5       Amsterdam         NLD  Noord-Holland    731200.0\n",
       "...   ...             ...         ...            ...         ...\n",
       "5059  ZMB          Tongan           F           11.0         NaN\n",
       "5060  ZWE         English           T            2.2         NaN\n",
       "5061  ZWE         Ndebele           F           16.2         NaN\n",
       "5062  ZWE          Nyanja           F            2.2         NaN\n",
       "5063  ZWE           Shona           F           72.1         NaN\n",
       "\n",
       "[5064 rows x 5 columns]"
      ]
     },
     "execution_count": 3,
     "metadata": {},
     "output_type": "execute_result"
    }
   ],
   "source": [
    "df"
   ]
  },
  {
   "cell_type": "code",
   "execution_count": 4,
   "id": "6a7f0b67",
   "metadata": {
    "execution": {
     "iopub.execute_input": "2025-10-27T06:26:41.052191Z",
     "iopub.status.busy": "2025-10-27T06:26:41.051613Z",
     "iopub.status.idle": "2025-10-27T06:26:41.055299Z",
     "shell.execute_reply": "2025-10-27T06:26:41.054644Z"
    },
    "papermill": {
     "duration": 0.00884,
     "end_time": "2025-10-27T06:26:41.056582",
     "exception": false,
     "start_time": "2025-10-27T06:26:41.047742",
     "status": "completed"
    },
    "tags": []
   },
   "outputs": [],
   "source": [
    "import warnings"
   ]
  },
  {
   "cell_type": "code",
   "execution_count": 5,
   "id": "6edf8547",
   "metadata": {
    "execution": {
     "iopub.execute_input": "2025-10-27T06:26:41.064298Z",
     "iopub.status.busy": "2025-10-27T06:26:41.063993Z",
     "iopub.status.idle": "2025-10-27T06:26:41.068035Z",
     "shell.execute_reply": "2025-10-27T06:26:41.067221Z"
    },
    "papermill": {
     "duration": 0.009259,
     "end_time": "2025-10-27T06:26:41.069354",
     "exception": false,
     "start_time": "2025-10-27T06:26:41.060095",
     "status": "completed"
    },
    "tags": []
   },
   "outputs": [],
   "source": [
    "warnings.simplefilter(action='ignore', category=RuntimeWarning)"
   ]
  },
  {
   "cell_type": "code",
   "execution_count": 6,
   "id": "7b80b2a0",
   "metadata": {
    "execution": {
     "iopub.execute_input": "2025-10-27T06:26:41.076856Z",
     "iopub.status.busy": "2025-10-27T06:26:41.076305Z",
     "iopub.status.idle": "2025-10-27T06:26:41.086532Z",
     "shell.execute_reply": "2025-10-27T06:26:41.085772Z"
    },
    "papermill": {
     "duration": 0.015227,
     "end_time": "2025-10-27T06:26:41.087763",
     "exception": false,
     "start_time": "2025-10-27T06:26:41.072536",
     "status": "completed"
    },
    "tags": []
   },
   "outputs": [
    {
     "data": {
      "text/html": [
       "<div>\n",
       "<style scoped>\n",
       "    .dataframe tbody tr th:only-of-type {\n",
       "        vertical-align: middle;\n",
       "    }\n",
       "\n",
       "    .dataframe tbody tr th {\n",
       "        vertical-align: top;\n",
       "    }\n",
       "\n",
       "    .dataframe thead th {\n",
       "        text-align: right;\n",
       "    }\n",
       "</style>\n",
       "<table border=\"1\" class=\"dataframe\">\n",
       "  <thead>\n",
       "    <tr style=\"text-align: right;\">\n",
       "      <th></th>\n",
       "      <th>ID</th>\n",
       "      <th>Name</th>\n",
       "      <th>CountryCode</th>\n",
       "      <th>District</th>\n",
       "      <th>Population</th>\n",
       "    </tr>\n",
       "  </thead>\n",
       "  <tbody>\n",
       "    <tr>\n",
       "      <th>0</th>\n",
       "      <td>1</td>\n",
       "      <td>Kabul</td>\n",
       "      <td>AFG</td>\n",
       "      <td>Kabol</td>\n",
       "      <td>1780000.0</td>\n",
       "    </tr>\n",
       "    <tr>\n",
       "      <th>1</th>\n",
       "      <td>2</td>\n",
       "      <td>Qandahar</td>\n",
       "      <td>AFG</td>\n",
       "      <td>Qandahar</td>\n",
       "      <td>237500.0</td>\n",
       "    </tr>\n",
       "    <tr>\n",
       "      <th>2</th>\n",
       "      <td>3</td>\n",
       "      <td>Herat</td>\n",
       "      <td>AFG</td>\n",
       "      <td>Herat</td>\n",
       "      <td>186800.0</td>\n",
       "    </tr>\n",
       "    <tr>\n",
       "      <th>3</th>\n",
       "      <td>4</td>\n",
       "      <td>Mazar-e-Sharif</td>\n",
       "      <td>AFG</td>\n",
       "      <td>Balkh</td>\n",
       "      <td>127800.0</td>\n",
       "    </tr>\n",
       "    <tr>\n",
       "      <th>4</th>\n",
       "      <td>5</td>\n",
       "      <td>Amsterdam</td>\n",
       "      <td>NLD</td>\n",
       "      <td>Noord-Holland</td>\n",
       "      <td>731200.0</td>\n",
       "    </tr>\n",
       "    <tr>\n",
       "      <th>...</th>\n",
       "      <td>...</td>\n",
       "      <td>...</td>\n",
       "      <td>...</td>\n",
       "      <td>...</td>\n",
       "      <td>...</td>\n",
       "    </tr>\n",
       "    <tr>\n",
       "      <th>5059</th>\n",
       "      <td>ZMB</td>\n",
       "      <td>Tongan</td>\n",
       "      <td>F</td>\n",
       "      <td>11.0</td>\n",
       "      <td>NaN</td>\n",
       "    </tr>\n",
       "    <tr>\n",
       "      <th>5060</th>\n",
       "      <td>ZWE</td>\n",
       "      <td>English</td>\n",
       "      <td>T</td>\n",
       "      <td>2.2</td>\n",
       "      <td>NaN</td>\n",
       "    </tr>\n",
       "    <tr>\n",
       "      <th>5061</th>\n",
       "      <td>ZWE</td>\n",
       "      <td>Ndebele</td>\n",
       "      <td>F</td>\n",
       "      <td>16.2</td>\n",
       "      <td>NaN</td>\n",
       "    </tr>\n",
       "    <tr>\n",
       "      <th>5062</th>\n",
       "      <td>ZWE</td>\n",
       "      <td>Nyanja</td>\n",
       "      <td>F</td>\n",
       "      <td>2.2</td>\n",
       "      <td>NaN</td>\n",
       "    </tr>\n",
       "    <tr>\n",
       "      <th>5063</th>\n",
       "      <td>ZWE</td>\n",
       "      <td>Shona</td>\n",
       "      <td>F</td>\n",
       "      <td>72.1</td>\n",
       "      <td>NaN</td>\n",
       "    </tr>\n",
       "  </tbody>\n",
       "</table>\n",
       "<p>5064 rows × 5 columns</p>\n",
       "</div>"
      ],
      "text/plain": [
       "       ID            Name CountryCode       District  Population\n",
       "0       1           Kabul         AFG          Kabol   1780000.0\n",
       "1       2        Qandahar         AFG       Qandahar    237500.0\n",
       "2       3           Herat         AFG          Herat    186800.0\n",
       "3       4  Mazar-e-Sharif         AFG          Balkh    127800.0\n",
       "4       5       Amsterdam         NLD  Noord-Holland    731200.0\n",
       "...   ...             ...         ...            ...         ...\n",
       "5059  ZMB          Tongan           F           11.0         NaN\n",
       "5060  ZWE         English           T            2.2         NaN\n",
       "5061  ZWE         Ndebele           F           16.2         NaN\n",
       "5062  ZWE          Nyanja           F            2.2         NaN\n",
       "5063  ZWE           Shona           F           72.1         NaN\n",
       "\n",
       "[5064 rows x 5 columns]"
      ]
     },
     "execution_count": 6,
     "metadata": {},
     "output_type": "execute_result"
    }
   ],
   "source": [
    "df"
   ]
  },
  {
   "cell_type": "code",
   "execution_count": 7,
   "id": "8bd863d7",
   "metadata": {
    "execution": {
     "iopub.execute_input": "2025-10-27T06:26:41.095138Z",
     "iopub.status.busy": "2025-10-27T06:26:41.094892Z",
     "iopub.status.idle": "2025-10-27T06:26:41.107628Z",
     "shell.execute_reply": "2025-10-27T06:26:41.106790Z"
    },
    "papermill": {
     "duration": 0.018025,
     "end_time": "2025-10-27T06:26:41.109119",
     "exception": false,
     "start_time": "2025-10-27T06:26:41.091094",
     "status": "completed"
    },
    "tags": []
   },
   "outputs": [],
   "source": [
    "df = pd.read_csv('/kaggle/input/worldcity/world.csv', usecols= ['District'])"
   ]
  },
  {
   "cell_type": "code",
   "execution_count": 8,
   "id": "282c7167",
   "metadata": {
    "execution": {
     "iopub.execute_input": "2025-10-27T06:26:41.116791Z",
     "iopub.status.busy": "2025-10-27T06:26:41.116522Z",
     "iopub.status.idle": "2025-10-27T06:26:41.125273Z",
     "shell.execute_reply": "2025-10-27T06:26:41.124570Z"
    },
    "papermill": {
     "duration": 0.013891,
     "end_time": "2025-10-27T06:26:41.126494",
     "exception": false,
     "start_time": "2025-10-27T06:26:41.112603",
     "status": "completed"
    },
    "tags": []
   },
   "outputs": [
    {
     "data": {
      "text/html": [
       "<div>\n",
       "<style scoped>\n",
       "    .dataframe tbody tr th:only-of-type {\n",
       "        vertical-align: middle;\n",
       "    }\n",
       "\n",
       "    .dataframe tbody tr th {\n",
       "        vertical-align: top;\n",
       "    }\n",
       "\n",
       "    .dataframe thead th {\n",
       "        text-align: right;\n",
       "    }\n",
       "</style>\n",
       "<table border=\"1\" class=\"dataframe\">\n",
       "  <thead>\n",
       "    <tr style=\"text-align: right;\">\n",
       "      <th></th>\n",
       "      <th>District</th>\n",
       "    </tr>\n",
       "  </thead>\n",
       "  <tbody>\n",
       "    <tr>\n",
       "      <th>0</th>\n",
       "      <td>Kabol</td>\n",
       "    </tr>\n",
       "    <tr>\n",
       "      <th>1</th>\n",
       "      <td>Qandahar</td>\n",
       "    </tr>\n",
       "    <tr>\n",
       "      <th>2</th>\n",
       "      <td>Herat</td>\n",
       "    </tr>\n",
       "    <tr>\n",
       "      <th>3</th>\n",
       "      <td>Balkh</td>\n",
       "    </tr>\n",
       "    <tr>\n",
       "      <th>4</th>\n",
       "      <td>Noord-Holland</td>\n",
       "    </tr>\n",
       "    <tr>\n",
       "      <th>...</th>\n",
       "      <td>...</td>\n",
       "    </tr>\n",
       "    <tr>\n",
       "      <th>5299</th>\n",
       "      <td>11.0</td>\n",
       "    </tr>\n",
       "    <tr>\n",
       "      <th>5300</th>\n",
       "      <td>2.2</td>\n",
       "    </tr>\n",
       "    <tr>\n",
       "      <th>5301</th>\n",
       "      <td>16.2</td>\n",
       "    </tr>\n",
       "    <tr>\n",
       "      <th>5302</th>\n",
       "      <td>2.2</td>\n",
       "    </tr>\n",
       "    <tr>\n",
       "      <th>5303</th>\n",
       "      <td>72.1</td>\n",
       "    </tr>\n",
       "  </tbody>\n",
       "</table>\n",
       "<p>5304 rows × 1 columns</p>\n",
       "</div>"
      ],
      "text/plain": [
       "           District\n",
       "0             Kabol\n",
       "1          Qandahar\n",
       "2             Herat\n",
       "3             Balkh\n",
       "4     Noord-Holland\n",
       "...             ...\n",
       "5299           11.0\n",
       "5300            2.2\n",
       "5301           16.2\n",
       "5302            2.2\n",
       "5303           72.1\n",
       "\n",
       "[5304 rows x 1 columns]"
      ]
     },
     "execution_count": 8,
     "metadata": {},
     "output_type": "execute_result"
    }
   ],
   "source": [
    "df"
   ]
  },
  {
   "cell_type": "code",
   "execution_count": 9,
   "id": "370c52f0",
   "metadata": {
    "execution": {
     "iopub.execute_input": "2025-10-27T06:26:41.134311Z",
     "iopub.status.busy": "2025-10-27T06:26:41.134014Z",
     "iopub.status.idle": "2025-10-27T06:26:41.142498Z",
     "shell.execute_reply": "2025-10-27T06:26:41.141881Z"
    },
    "papermill": {
     "duration": 0.013701,
     "end_time": "2025-10-27T06:26:41.143660",
     "exception": false,
     "start_time": "2025-10-27T06:26:41.129959",
     "status": "completed"
    },
    "tags": []
   },
   "outputs": [],
   "source": [
    "df = pd.read_csv('/kaggle/input/worldcity/world.csv', nrows = 100)"
   ]
  },
  {
   "cell_type": "code",
   "execution_count": 10,
   "id": "f18c9078",
   "metadata": {
    "execution": {
     "iopub.execute_input": "2025-10-27T06:26:41.152123Z",
     "iopub.status.busy": "2025-10-27T06:26:41.151887Z",
     "iopub.status.idle": "2025-10-27T06:26:41.161918Z",
     "shell.execute_reply": "2025-10-27T06:26:41.161090Z"
    },
    "papermill": {
     "duration": 0.016017,
     "end_time": "2025-10-27T06:26:41.163117",
     "exception": false,
     "start_time": "2025-10-27T06:26:41.147100",
     "status": "completed"
    },
    "tags": []
   },
   "outputs": [
    {
     "data": {
      "text/html": [
       "<div>\n",
       "<style scoped>\n",
       "    .dataframe tbody tr th:only-of-type {\n",
       "        vertical-align: middle;\n",
       "    }\n",
       "\n",
       "    .dataframe tbody tr th {\n",
       "        vertical-align: top;\n",
       "    }\n",
       "\n",
       "    .dataframe thead th {\n",
       "        text-align: right;\n",
       "    }\n",
       "</style>\n",
       "<table border=\"1\" class=\"dataframe\">\n",
       "  <thead>\n",
       "    <tr style=\"text-align: right;\">\n",
       "      <th></th>\n",
       "      <th>ID</th>\n",
       "      <th>Name</th>\n",
       "      <th>CountryCode</th>\n",
       "      <th>District</th>\n",
       "      <th>Population</th>\n",
       "    </tr>\n",
       "  </thead>\n",
       "  <tbody>\n",
       "    <tr>\n",
       "      <th>0</th>\n",
       "      <td>1</td>\n",
       "      <td>Kabul</td>\n",
       "      <td>AFG</td>\n",
       "      <td>Kabol</td>\n",
       "      <td>1780000</td>\n",
       "    </tr>\n",
       "    <tr>\n",
       "      <th>1</th>\n",
       "      <td>2</td>\n",
       "      <td>Qandahar</td>\n",
       "      <td>AFG</td>\n",
       "      <td>Qandahar</td>\n",
       "      <td>237500</td>\n",
       "    </tr>\n",
       "    <tr>\n",
       "      <th>2</th>\n",
       "      <td>3</td>\n",
       "      <td>Herat</td>\n",
       "      <td>AFG</td>\n",
       "      <td>Herat</td>\n",
       "      <td>186800</td>\n",
       "    </tr>\n",
       "    <tr>\n",
       "      <th>3</th>\n",
       "      <td>4</td>\n",
       "      <td>Mazar-e-Sharif</td>\n",
       "      <td>AFG</td>\n",
       "      <td>Balkh</td>\n",
       "      <td>127800</td>\n",
       "    </tr>\n",
       "    <tr>\n",
       "      <th>4</th>\n",
       "      <td>5</td>\n",
       "      <td>Amsterdam</td>\n",
       "      <td>NLD</td>\n",
       "      <td>Noord-Holland</td>\n",
       "      <td>731200</td>\n",
       "    </tr>\n",
       "    <tr>\n",
       "      <th>...</th>\n",
       "      <td>...</td>\n",
       "      <td>...</td>\n",
       "      <td>...</td>\n",
       "      <td>...</td>\n",
       "      <td>...</td>\n",
       "    </tr>\n",
       "    <tr>\n",
       "      <th>95</th>\n",
       "      <td>96</td>\n",
       "      <td>Bahía Blanca</td>\n",
       "      <td>ARG</td>\n",
       "      <td>Buenos Aires</td>\n",
       "      <td>239810</td>\n",
       "    </tr>\n",
       "    <tr>\n",
       "      <th>96</th>\n",
       "      <td>97</td>\n",
       "      <td>Esteban Echeverría</td>\n",
       "      <td>ARG</td>\n",
       "      <td>Buenos Aires</td>\n",
       "      <td>235760</td>\n",
       "    </tr>\n",
       "    <tr>\n",
       "      <th>97</th>\n",
       "      <td>98</td>\n",
       "      <td>Resistencia</td>\n",
       "      <td>ARG</td>\n",
       "      <td>Chaco</td>\n",
       "      <td>229212</td>\n",
       "    </tr>\n",
       "    <tr>\n",
       "      <th>98</th>\n",
       "      <td>99</td>\n",
       "      <td>José C. Paz</td>\n",
       "      <td>ARG</td>\n",
       "      <td>Buenos Aires</td>\n",
       "      <td>221754</td>\n",
       "    </tr>\n",
       "    <tr>\n",
       "      <th>99</th>\n",
       "      <td>100</td>\n",
       "      <td>Paraná</td>\n",
       "      <td>ARG</td>\n",
       "      <td>Entre Rios</td>\n",
       "      <td>207041</td>\n",
       "    </tr>\n",
       "  </tbody>\n",
       "</table>\n",
       "<p>100 rows × 5 columns</p>\n",
       "</div>"
      ],
      "text/plain": [
       "     ID                Name CountryCode       District  Population\n",
       "0     1               Kabul         AFG          Kabol     1780000\n",
       "1     2            Qandahar         AFG       Qandahar      237500\n",
       "2     3               Herat         AFG          Herat      186800\n",
       "3     4      Mazar-e-Sharif         AFG          Balkh      127800\n",
       "4     5           Amsterdam         NLD  Noord-Holland      731200\n",
       "..  ...                 ...         ...            ...         ...\n",
       "95   96        Bahía Blanca         ARG   Buenos Aires      239810\n",
       "96   97  Esteban Echeverría         ARG   Buenos Aires      235760\n",
       "97   98         Resistencia         ARG          Chaco      229212\n",
       "98   99         José C. Paz         ARG   Buenos Aires      221754\n",
       "99  100              Paraná         ARG     Entre Rios      207041\n",
       "\n",
       "[100 rows x 5 columns]"
      ]
     },
     "execution_count": 10,
     "metadata": {},
     "output_type": "execute_result"
    }
   ],
   "source": [
    "df"
   ]
  },
  {
   "cell_type": "code",
   "execution_count": 11,
   "id": "761a8ecb",
   "metadata": {
    "execution": {
     "iopub.execute_input": "2025-10-27T06:26:41.171135Z",
     "iopub.status.busy": "2025-10-27T06:26:41.170889Z",
     "iopub.status.idle": "2025-10-27T06:26:41.184551Z",
     "shell.execute_reply": "2025-10-27T06:26:41.183914Z"
    },
    "papermill": {
     "duration": 0.01912,
     "end_time": "2025-10-27T06:26:41.185881",
     "exception": false,
     "start_time": "2025-10-27T06:26:41.166761",
     "status": "completed"
    },
    "tags": []
   },
   "outputs": [],
   "source": [
    "df = pd.read_csv('/kaggle/input/worldcity/world.csv', on_bad_lines='skip')"
   ]
  },
  {
   "cell_type": "code",
   "execution_count": 12,
   "id": "c78ba5b0",
   "metadata": {
    "execution": {
     "iopub.execute_input": "2025-10-27T06:26:41.193928Z",
     "iopub.status.busy": "2025-10-27T06:26:41.193683Z",
     "iopub.status.idle": "2025-10-27T06:26:41.199934Z",
     "shell.execute_reply": "2025-10-27T06:26:41.199303Z"
    },
    "papermill": {
     "duration": 0.011486,
     "end_time": "2025-10-27T06:26:41.201026",
     "exception": false,
     "start_time": "2025-10-27T06:26:41.189540",
     "status": "completed"
    },
    "tags": []
   },
   "outputs": [],
   "source": [
    "afg_data = df[df['CountryCode'] == 'USA']"
   ]
  },
  {
   "cell_type": "code",
   "execution_count": 13,
   "id": "4a5adba5",
   "metadata": {
    "execution": {
     "iopub.execute_input": "2025-10-27T06:26:41.208720Z",
     "iopub.status.busy": "2025-10-27T06:26:41.208490Z",
     "iopub.status.idle": "2025-10-27T06:26:41.218703Z",
     "shell.execute_reply": "2025-10-27T06:26:41.217916Z"
    },
    "papermill": {
     "duration": 0.01535,
     "end_time": "2025-10-27T06:26:41.219880",
     "exception": false,
     "start_time": "2025-10-27T06:26:41.204530",
     "status": "completed"
    },
    "tags": []
   },
   "outputs": [
    {
     "data": {
      "text/html": [
       "<div>\n",
       "<style scoped>\n",
       "    .dataframe tbody tr th:only-of-type {\n",
       "        vertical-align: middle;\n",
       "    }\n",
       "\n",
       "    .dataframe tbody tr th {\n",
       "        vertical-align: top;\n",
       "    }\n",
       "\n",
       "    .dataframe thead th {\n",
       "        text-align: right;\n",
       "    }\n",
       "</style>\n",
       "<table border=\"1\" class=\"dataframe\">\n",
       "  <thead>\n",
       "    <tr style=\"text-align: right;\">\n",
       "      <th></th>\n",
       "      <th>ID</th>\n",
       "      <th>Name</th>\n",
       "      <th>CountryCode</th>\n",
       "      <th>District</th>\n",
       "      <th>Population</th>\n",
       "    </tr>\n",
       "  </thead>\n",
       "  <tbody>\n",
       "    <tr>\n",
       "      <th>3792</th>\n",
       "      <td>3793</td>\n",
       "      <td>New York</td>\n",
       "      <td>USA</td>\n",
       "      <td>New York</td>\n",
       "      <td>8008278.0</td>\n",
       "    </tr>\n",
       "    <tr>\n",
       "      <th>3793</th>\n",
       "      <td>3794</td>\n",
       "      <td>Los Angeles</td>\n",
       "      <td>USA</td>\n",
       "      <td>California</td>\n",
       "      <td>3694820.0</td>\n",
       "    </tr>\n",
       "    <tr>\n",
       "      <th>3794</th>\n",
       "      <td>3795</td>\n",
       "      <td>Chicago</td>\n",
       "      <td>USA</td>\n",
       "      <td>Illinois</td>\n",
       "      <td>2896016.0</td>\n",
       "    </tr>\n",
       "    <tr>\n",
       "      <th>3795</th>\n",
       "      <td>3796</td>\n",
       "      <td>Houston</td>\n",
       "      <td>USA</td>\n",
       "      <td>Texas</td>\n",
       "      <td>1953631.0</td>\n",
       "    </tr>\n",
       "    <tr>\n",
       "      <th>3796</th>\n",
       "      <td>3797</td>\n",
       "      <td>Philadelphia</td>\n",
       "      <td>USA</td>\n",
       "      <td>Pennsylvania</td>\n",
       "      <td>1517550.0</td>\n",
       "    </tr>\n",
       "    <tr>\n",
       "      <th>...</th>\n",
       "      <td>...</td>\n",
       "      <td>...</td>\n",
       "      <td>...</td>\n",
       "      <td>...</td>\n",
       "      <td>...</td>\n",
       "    </tr>\n",
       "    <tr>\n",
       "      <th>4061</th>\n",
       "      <td>4062</td>\n",
       "      <td>Kenosha</td>\n",
       "      <td>USA</td>\n",
       "      <td>Wisconsin</td>\n",
       "      <td>89447.0</td>\n",
       "    </tr>\n",
       "    <tr>\n",
       "      <th>4062</th>\n",
       "      <td>4063</td>\n",
       "      <td>Elgin</td>\n",
       "      <td>USA</td>\n",
       "      <td>Illinois</td>\n",
       "      <td>89408.0</td>\n",
       "    </tr>\n",
       "    <tr>\n",
       "      <th>4063</th>\n",
       "      <td>4064</td>\n",
       "      <td>Odessa</td>\n",
       "      <td>USA</td>\n",
       "      <td>Texas</td>\n",
       "      <td>89293.0</td>\n",
       "    </tr>\n",
       "    <tr>\n",
       "      <th>4064</th>\n",
       "      <td>4065</td>\n",
       "      <td>Carson</td>\n",
       "      <td>USA</td>\n",
       "      <td>California</td>\n",
       "      <td>89089.0</td>\n",
       "    </tr>\n",
       "    <tr>\n",
       "      <th>4065</th>\n",
       "      <td>4066</td>\n",
       "      <td>Charleston</td>\n",
       "      <td>USA</td>\n",
       "      <td>South Carolina</td>\n",
       "      <td>89063.0</td>\n",
       "    </tr>\n",
       "  </tbody>\n",
       "</table>\n",
       "<p>274 rows × 5 columns</p>\n",
       "</div>"
      ],
      "text/plain": [
       "        ID          Name CountryCode        District  Population\n",
       "3792  3793      New York         USA        New York   8008278.0\n",
       "3793  3794   Los Angeles         USA      California   3694820.0\n",
       "3794  3795       Chicago         USA        Illinois   2896016.0\n",
       "3795  3796       Houston         USA           Texas   1953631.0\n",
       "3796  3797  Philadelphia         USA    Pennsylvania   1517550.0\n",
       "...    ...           ...         ...             ...         ...\n",
       "4061  4062       Kenosha         USA       Wisconsin     89447.0\n",
       "4062  4063         Elgin         USA        Illinois     89408.0\n",
       "4063  4064        Odessa         USA           Texas     89293.0\n",
       "4064  4065        Carson         USA      California     89089.0\n",
       "4065  4066    Charleston         USA  South Carolina     89063.0\n",
       "\n",
       "[274 rows x 5 columns]"
      ]
     },
     "execution_count": 13,
     "metadata": {},
     "output_type": "execute_result"
    }
   ],
   "source": [
    "afg_data"
   ]
  },
  {
   "cell_type": "code",
   "execution_count": null,
   "id": "111361d8",
   "metadata": {
    "papermill": {
     "duration": 0.003526,
     "end_time": "2025-10-27T06:26:41.227259",
     "exception": false,
     "start_time": "2025-10-27T06:26:41.223733",
     "status": "completed"
    },
    "tags": []
   },
   "outputs": [],
   "source": []
  }
 ],
 "metadata": {
  "kaggle": {
   "accelerator": "none",
   "dataSources": [
    {
     "datasetId": 8580164,
     "sourceId": 13513987,
     "sourceType": "datasetVersion"
    },
    {
     "datasetId": 8580292,
     "sourceId": 13514196,
     "sourceType": "datasetVersion"
    }
   ],
   "dockerImageVersionId": 31153,
   "isGpuEnabled": false,
   "isInternetEnabled": false,
   "language": "python",
   "sourceType": "notebook"
  },
  "kernelspec": {
   "display_name": "Python 3",
   "language": "python",
   "name": "python3"
  },
  "language_info": {
   "codemirror_mode": {
    "name": "ipython",
    "version": 3
   },
   "file_extension": ".py",
   "mimetype": "text/x-python",
   "name": "python",
   "nbconvert_exporter": "python",
   "pygments_lexer": "ipython3",
   "version": "3.11.13"
  },
  "papermill": {
   "default_parameters": {},
   "duration": 6.635412,
   "end_time": "2025-10-27T06:26:41.648368",
   "environment_variables": {},
   "exception": null,
   "input_path": "__notebook__.ipynb",
   "output_path": "__notebook__.ipynb",
   "parameters": {},
   "start_time": "2025-10-27T06:26:35.012956",
   "version": "2.6.0"
  }
 },
 "nbformat": 4,
 "nbformat_minor": 5
}
